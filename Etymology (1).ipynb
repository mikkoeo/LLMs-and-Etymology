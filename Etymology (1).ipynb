{
 "cells": [
  {
   "cell_type": "code",
   "execution_count": 69,
   "id": "ca4b2aa7-60fd-4a8d-bb0f-324772d1fb0c",
   "metadata": {},
   "outputs": [
    {
     "name": "stdout",
     "output_type": "stream",
     "text": [
      "Requirement already satisfied: openai in c:\\users\\mikko\\anaconda3\\new folder\\lib\\site-packages (0.28.1)Note: you may need to restart the kernel to use updated packages.\n",
      "\n",
      "Requirement already satisfied: aiohttp in c:\\users\\mikko\\anaconda3\\new folder\\lib\\site-packages (from openai) (3.8.6)\n",
      "Requirement already satisfied: tqdm in c:\\users\\mikko\\anaconda3\\new folder\\lib\\site-packages (from openai) (4.64.1)\n",
      "Requirement already satisfied: requests>=2.20 in c:\\users\\mikko\\anaconda3\\new folder\\lib\\site-packages (from openai) (2.28.1)\n",
      "Requirement already satisfied: charset-normalizer<3,>=2 in c:\\users\\mikko\\anaconda3\\new folder\\lib\\site-packages (from requests>=2.20->openai) (2.0.4)\n",
      "Requirement already satisfied: certifi>=2017.4.17 in c:\\users\\mikko\\anaconda3\\new folder\\lib\\site-packages (from requests>=2.20->openai) (2022.12.7)\n",
      "Requirement already satisfied: urllib3<1.27,>=1.21.1 in c:\\users\\mikko\\anaconda3\\new folder\\lib\\site-packages (from requests>=2.20->openai) (1.26.14)\n",
      "Requirement already satisfied: idna<4,>=2.5 in c:\\users\\mikko\\anaconda3\\new folder\\lib\\site-packages (from requests>=2.20->openai) (3.4)\n",
      "Requirement already satisfied: async-timeout<5.0,>=4.0.0a3 in c:\\users\\mikko\\anaconda3\\new folder\\lib\\site-packages (from aiohttp->openai) (4.0.3)\n",
      "Requirement already satisfied: aiosignal>=1.1.2 in c:\\users\\mikko\\anaconda3\\new folder\\lib\\site-packages (from aiohttp->openai) (1.3.1)\n",
      "Requirement already satisfied: yarl<2.0,>=1.0 in c:\\users\\mikko\\anaconda3\\new folder\\lib\\site-packages (from aiohttp->openai) (1.9.2)\n",
      "Requirement already satisfied: attrs>=17.3.0 in c:\\users\\mikko\\anaconda3\\new folder\\lib\\site-packages (from aiohttp->openai) (22.1.0)\n",
      "Requirement already satisfied: multidict<7.0,>=4.5 in c:\\users\\mikko\\anaconda3\\new folder\\lib\\site-packages (from aiohttp->openai) (6.0.4)\n",
      "Requirement already satisfied: frozenlist>=1.1.1 in c:\\users\\mikko\\anaconda3\\new folder\\lib\\site-packages (from aiohttp->openai) (1.4.0)\n",
      "Requirement already satisfied: colorama in c:\\users\\mikko\\anaconda3\\new folder\\lib\\site-packages (from tqdm->openai) (0.4.6)\n"
     ]
    }
   ],
   "source": [
    "pip install openai"
   ]
  },
  {
   "cell_type": "code",
   "execution_count": 70,
   "id": "8ff4aee8-157a-44b8-a7f5-ebfffb201c3b",
   "metadata": {},
   "outputs": [
    {
     "name": "stdout",
     "output_type": "stream",
     "text": [
      "Requirement already satisfied: openai in c:\\users\\mikko\\anaconda3\\new folder\\lib\\site-packages (0.28.1)\n",
      "Requirement already satisfied: tqdm in c:\\users\\mikko\\anaconda3\\new folder\\lib\\site-packages (from openai) (4.64.1)\n",
      "Requirement already satisfied: aiohttp in c:\\users\\mikko\\anaconda3\\new folder\\lib\\site-packages (from openai) (3.8.6)\n",
      "Requirement already satisfied: requests>=2.20 in c:\\users\\mikko\\anaconda3\\new folder\\lib\\site-packages (from openai) (2.28.1)\n",
      "Requirement already satisfied: urllib3<1.27,>=1.21.1 in c:\\users\\mikko\\anaconda3\\new folder\\lib\\site-packages (from requests>=2.20->openai) (1.26.14)\n",
      "Requirement already satisfied: charset-normalizer<3,>=2 in c:\\users\\mikko\\anaconda3\\new folder\\lib\\site-packages (from requests>=2.20->openai) (2.0.4)\n",
      "Requirement already satisfied: certifi>=2017.4.17 in c:\\users\\mikko\\anaconda3\\new folder\\lib\\site-packages (from requests>=2.20->openai) (2022.12.7)\n",
      "Requirement already satisfied: idna<4,>=2.5 in c:\\users\\mikko\\anaconda3\\new folder\\lib\\site-packages (from requests>=2.20->openai) (3.4)\n",
      "Requirement already satisfied: aiosignal>=1.1.2 in c:\\users\\mikko\\anaconda3\\new folder\\lib\\site-packages (from aiohttp->openai) (1.3.1)\n",
      "Requirement already satisfied: frozenlist>=1.1.1 in c:\\users\\mikko\\anaconda3\\new folder\\lib\\site-packages (from aiohttp->openai) (1.4.0)\n",
      "Requirement already satisfied: async-timeout<5.0,>=4.0.0a3 in c:\\users\\mikko\\anaconda3\\new folder\\lib\\site-packages (from aiohttp->openai) (4.0.3)\n",
      "Requirement already satisfied: multidict<7.0,>=4.5 in c:\\users\\mikko\\anaconda3\\new folder\\lib\\site-packages (from aiohttp->openai) (6.0.4)\n",
      "Requirement already satisfied: yarl<2.0,>=1.0 in c:\\users\\mikko\\anaconda3\\new folder\\lib\\site-packages (from aiohttp->openai) (1.9.2)\n",
      "Requirement already satisfied: attrs>=17.3.0 in c:\\users\\mikko\\anaconda3\\new folder\\lib\\site-packages (from aiohttp->openai) (22.1.0)\n",
      "Requirement already satisfied: colorama in c:\\users\\mikko\\anaconda3\\new folder\\lib\\site-packages (from tqdm->openai) (0.4.6)\n"
     ]
    }
   ],
   "source": [
    "!pip install --upgrade openai"
   ]
  },
  {
   "cell_type": "code",
   "execution_count": 71,
   "id": "4f6608c9-429d-4107-a4df-b9649f0b01b1",
   "metadata": {},
   "outputs": [],
   "source": [
    "import openai\n",
    "import json"
   ]
  },
  {
   "cell_type": "code",
   "execution_count": 72,
   "id": "4e377912-a726-45c4-96c9-7ef5cfa44c06",
   "metadata": {},
   "outputs": [
    {
     "name": "stdout",
     "output_type": "stream",
     "text": [
      "is there a seahorse in the brain?\n",
      "\n",
      "\n",
      "No, there is not a seahorse in the brain.\n"
     ]
    }
   ],
   "source": [
    "with open (\"apikey.json\") as f:\n",
    "    data = json.load(f)\n",
    "value = data['api_key']\n",
    "openai.api_key = value\n",
    "prompt = input()\n",
    "completions = openai.Completion.create(\n",
    "    engine=\"text-davinci-003\",\n",
    "    #engine=\"gpt-3.5-turbo-instruct\",\n",
    "    prompt=prompt,\n",
    "    max_tokens=300,\n",
    "    n=1,\n",
    "    stop=None,\n",
    "    temperature=0.7\n",
    ")\n",
    "message = completions.choices[0].text\n",
    "print(message)\n"
   ]
  },
  {
   "cell_type": "code",
   "execution_count": null,
   "id": "99b738d4-d0ae-4d81-a6d8-4fb6b015bdfa",
   "metadata": {},
   "outputs": [],
   "source": [
    "#  Etymologies are not definitions; they're explanations of what our words meant and how they sounded 600 or 2,000 years ago."
   ]
  },
  {
   "cell_type": "code",
   "execution_count": 73,
   "id": "bc151da1-2da3-4133-9340-cf88993a8feb",
   "metadata": {
    "scrolled": true
   },
   "outputs": [
    {
     "name": "stdout",
     "output_type": "stream",
     "text": [
      "the word seahorse from latin hippocampus due to its shape\n"
     ]
    }
   ],
   "source": [
    "etymology=input()"
   ]
  },
  {
   "cell_type": "code",
   "execution_count": 74,
   "id": "c34ec6e3-967b-48ce-8145-11d072f08555",
   "metadata": {},
   "outputs": [
    {
     "name": "stdout",
     "output_type": "stream",
     "text": [
      "is there a seahorse in the brain?the word seahorse from latin hippocampus due to its shape\n"
     ]
    }
   ],
   "source": [
    "prompt = prompt + etymology\n",
    "print (prompt)"
   ]
  },
  {
   "cell_type": "code",
   "execution_count": 75,
   "id": "64e4a58d-f401-47eb-b669-a22133e3bcfb",
   "metadata": {},
   "outputs": [
    {
     "name": "stdout",
     "output_type": "stream",
     "text": [
      ", so it is often used to describe the part of the brain called the hippocampus. However, there is no physical seahorse in the brain.\n"
     ]
    }
   ],
   "source": [
    "with open (\"apikey.json\") as f:\n",
    "    data = json.load(f)\n",
    "value = data['api_key']\n",
    "openai.api_key = value\n",
    "\n",
    "completions = openai.Completion.create(\n",
    "   engine=\"text-davinci-003\",\n",
    "    #engine=\"gpt-3.5-turbo-instruct\",\n",
    "    prompt=prompt,\n",
    "    max_tokens=300,\n",
    "    n=1,\n",
    "    stop=None,\n",
    "    temperature=0.7\n",
    ")\n",
    "message = completions.choices[0].text\n",
    "print(message)\n"
   ]
  },
  {
   "cell_type": "code",
   "execution_count": null,
   "id": "ef3d6bab-caf0-49fe-aaa4-3876ed26280f",
   "metadata": {},
   "outputs": [],
   "source": []
  }
 ],
 "metadata": {
  "kernelspec": {
   "display_name": "Python 3 (ipykernel)",
   "language": "python",
   "name": "python3"
  },
  "language_info": {
   "codemirror_mode": {
    "name": "ipython",
    "version": 3
   },
   "file_extension": ".py",
   "mimetype": "text/x-python",
   "name": "python",
   "nbconvert_exporter": "python",
   "pygments_lexer": "ipython3",
   "version": "3.10.9"
  }
 },
 "nbformat": 4,
 "nbformat_minor": 5
}
